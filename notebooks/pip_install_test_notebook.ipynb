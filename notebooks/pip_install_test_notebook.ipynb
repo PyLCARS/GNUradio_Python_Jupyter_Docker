{
 "cells": [
  {
   "cell_type": "code",
   "execution_count": 1,
   "id": "5de231fc-a1bb-4d45-93ed-eccc82e8569b",
   "metadata": {
    "scrolled": true
   },
   "outputs": [
    {
     "name": "stdout",
     "output_type": "stream",
     "text": [
      "Testing GNU Radio bridge...\n",
      "Python: /opt/venv/bin/python\n",
      "PYTHONUSERBASE: /home/jovyan/.local\n",
      "✓ GNU Radio 3.10.9.2 works!\n",
      "\n",
      "Testing pip...\n",
      "pip version: pip 25.2 from /opt/venv/lib/python3.12/site-packages/pip (python 3.12)\n",
      "\n",
      "\n",
      "Testing UV availability...\n",
      "✓ UV available: uv 0.8.10\n",
      "\n"
     ]
    }
   ],
   "source": [
    "#!/opt/venv/bin/python\n",
    "import sys\n",
    "import os\n",
    "print(\"Testing GNU Radio bridge...\")\n",
    "print(f\"Python: {sys.executable}\")\n",
    "print(f\"PYTHONUSERBASE: {os.environ.get('PYTHONUSERBASE')}\")\n",
    "sys.path.append(\"/usr/lib/python3/dist-packages\")\n",
    "try:\n",
    "    from gnuradio import gr\n",
    "    print(f\"✓ GNU Radio {gr.version()} works!\")\n",
    "except ImportError as e:\n",
    "    print(f\"✗ GNU Radio import failed: {e}\")\n",
    "\n",
    "print(\"\\nTesting pip...\")\n",
    "import subprocess\n",
    "result = subprocess.run([sys.executable, \"-m\", \"pip\", \"--version\"], capture_output=True, text=True)\n",
    "print(f\"pip version: {result.stdout}\")\n",
    "\n",
    "print(\"\\nTesting UV availability...\")\n",
    "result = subprocess.run([\"/opt/venv/bin/uv\", \"--version\"], capture_output=True, text=True)\n",
    "if result.returncode == 0:\n",
    "    print(f\"✓ UV available: {result.stdout}\")\n",
    "else:\n",
    "    print(\"✗ UV not found\")"
   ]
  },
  {
   "cell_type": "markdown",
   "id": "4ebc4a10-8c94-4c02-85b9-914d4b4dbcbe",
   "metadata": {},
   "source": [
    "\n",
    "# Testing pip install in Notebooks\n",
    "With the new setup, you can now install packages from within notebooks!\n"
   ]
  },
  {
   "cell_type": "code",
   "execution_count": 2,
   "id": "8ef4b6d0-fe1b-475e-a3f8-e03f5264b67d",
   "metadata": {},
   "outputs": [
    {
     "name": "stdout",
     "output_type": "stream",
     "text": [
      "GNU Radio paths configured\n"
     ]
    }
   ],
   "source": [
    "# First, the required GNU Radio path setup\n",
    "import sys\n",
    "sys.path.append('/usr/lib/python3/dist-packages')\n",
    "print(\"GNU Radio paths configured\")"
   ]
  },
  {
   "cell_type": "code",
   "execution_count": 3,
   "id": "83f65c05-c8db-48b1-a108-16908f99e2f9",
   "metadata": {},
   "outputs": [
    {
     "name": "stdout",
     "output_type": "stream",
     "text": [
      "PYTHONUSERBASE: /home/jovyan/.local\n",
      "PATH: /home/jovyan/.local/bin:/opt/venv/bin:/usr/local/sbin:/usr/local/bin:/usr/sbin:/usr/bin:/sbin:/bin\n",
      "User: None\n",
      "Home: /home/ubuntu\n"
     ]
    }
   ],
   "source": [
    "# Check our Python environment\n",
    "import os\n",
    "print(f\"PYTHONUSERBASE: {os.environ.get('PYTHONUSERBASE')}\")\n",
    "print(f\"PATH: {os.environ.get('PATH')}\")\n",
    "print(f\"User: {os.environ.get('USER')}\")\n",
    "print(f\"Home: {os.environ.get('HOME')}\")"
   ]
  },
  {
   "cell_type": "code",
   "execution_count": 4,
   "id": "dc038a94-27cc-4afa-b368-b9cd20c0e579",
   "metadata": {},
   "outputs": [
    {
     "name": "stdout",
     "output_type": "stream",
     "text": [
      "Requirement already satisfied: requests in /opt/venv/lib/python3.12/site-packages (2.32.4)\n",
      "Requirement already satisfied: charset_normalizer<4,>=2 in /opt/venv/lib/python3.12/site-packages (from requests) (3.4.3)\n",
      "Requirement already satisfied: idna<4,>=2.5 in /opt/venv/lib/python3.12/site-packages (from requests) (3.10)\n",
      "Requirement already satisfied: urllib3<3,>=1.21.1 in /opt/venv/lib/python3.12/site-packages (from requests) (2.5.0)\n",
      "Requirement already satisfied: certifi>=2017.4.17 in /opt/venv/lib/python3.12/site-packages (from requests) (2025.8.3)\n"
     ]
    }
   ],
   "source": [
    "# Test regular pip install --user\n",
    "!pip install requests"
   ]
  },
  {
   "cell_type": "code",
   "execution_count": 5,
   "id": "9a8a86e7-87af-4af7-af47-b37f22a4bd4a",
   "metadata": {},
   "outputs": [
    {
     "name": "stdout",
     "output_type": "stream",
     "text": [
      "\u001b[2mUsing Python 3.12.3 environment at: /opt/venv\u001b[0m\n",
      "\u001b[2K\u001b[2mResolved \u001b[1m4 packages\u001b[0m \u001b[2min 539ms\u001b[0m\u001b[0m                                         \u001b[0m\n",
      "\u001b[2K\u001b[2mPrepared \u001b[1m3 packages\u001b[0m \u001b[2min 190ms\u001b[0m\u001b[0m                                             \n",
      "\u001b[2K\u001b[2mInstalled \u001b[1m3 packages\u001b[0m \u001b[2min 23ms\u001b[0m\u001b[0m                                \u001b[0m\n",
      " \u001b[32m+\u001b[39m \u001b[1mmarkdown-it-py\u001b[0m\u001b[2m==4.0.0\u001b[0m\n",
      " \u001b[32m+\u001b[39m \u001b[1mmdurl\u001b[0m\u001b[2m==0.1.2\u001b[0m\n",
      " \u001b[32m+\u001b[39m \u001b[1mrich\u001b[0m\u001b[2m==14.1.0\u001b[0m\n"
     ]
    }
   ],
   "source": [
    "# Test uv for FAST installs (uv is pre-installed)\n",
    "!uv pip install  rich"
   ]
  },
  {
   "cell_type": "code",
   "execution_count": 6,
   "id": "a1a63e81-f451-4ecf-922b-957371750e18",
   "metadata": {},
   "outputs": [
    {
     "data": {
      "text/html": [
       "<pre style=\"white-space:pre;overflow-x:auto;line-height:normal;font-family:Menlo,'DejaVu Sans Mono',consolas,'Courier New',monospace\"><span style=\"color: #008000; text-decoration-color: #008000; font-weight: bold\">✓ Packages installed successfully!</span>\n",
       "</pre>\n"
      ],
      "text/plain": [
       "\u001b[1;32m✓ Packages installed successfully!\u001b[0m\n"
      ]
     },
     "metadata": {},
     "output_type": "display_data"
    },
    {
     "name": "stderr",
     "output_type": "stream",
     "text": [
      "/tmp/ipykernel_182/4228003127.py:15: UserWarning: pkg_resources is deprecated as an API. See https://setuptools.pypa.io/en/latest/pkg_resources.html. The pkg_resources package is slated for removal as early as 2025-11-30. Refrain from using this package or pin to Setuptools<81.\n",
      "  import pkg_resources\n"
     ]
    },
    {
     "data": {
      "text/html": [
       "<pre style=\"white-space:pre;overflow-x:auto;line-height:normal;font-family:Menlo,'DejaVu Sans Mono',consolas,'Courier New',monospace\"><span style=\"font-style: italic\">    User Installed    </span>\n",
       "<span style=\"font-style: italic\">       Packages       </span>\n",
       "┏━━━━━━━━━━┳━━━━━━━━━┓\n",
       "┃<span style=\"font-weight: bold\"> Package  </span>┃<span style=\"font-weight: bold\"> Version </span>┃\n",
       "┡━━━━━━━━━━╇━━━━━━━━━┩\n",
       "│<span style=\"color: #008080; text-decoration-color: #008080\"> requests </span>│<span style=\"color: #800080; text-decoration-color: #800080\"> 2.32.4  </span>│\n",
       "│<span style=\"color: #008080; text-decoration-color: #008080\"> rich     </span>│<span style=\"color: #800080; text-decoration-color: #800080\"> 14.1.0  </span>│\n",
       "└──────────┴─────────┘\n",
       "</pre>\n"
      ],
      "text/plain": [
       "\u001b[3m    User Installed    \u001b[0m\n",
       "\u001b[3m       Packages       \u001b[0m\n",
       "┏━━━━━━━━━━┳━━━━━━━━━┓\n",
       "┃\u001b[1m \u001b[0m\u001b[1mPackage \u001b[0m\u001b[1m \u001b[0m┃\u001b[1m \u001b[0m\u001b[1mVersion\u001b[0m\u001b[1m \u001b[0m┃\n",
       "┡━━━━━━━━━━╇━━━━━━━━━┩\n",
       "│\u001b[36m \u001b[0m\u001b[36mrequests\u001b[0m\u001b[36m \u001b[0m│\u001b[35m \u001b[0m\u001b[35m2.32.4 \u001b[0m\u001b[35m \u001b[0m│\n",
       "│\u001b[36m \u001b[0m\u001b[36mrich    \u001b[0m\u001b[36m \u001b[0m│\u001b[35m \u001b[0m\u001b[35m14.1.0 \u001b[0m\u001b[35m \u001b[0m│\n",
       "└──────────┴─────────┘\n"
      ]
     },
     "metadata": {},
     "output_type": "display_data"
    }
   ],
   "source": [
    "# Verify the packages work\n",
    "import requests\n",
    "from rich import print as rprint\n",
    "from rich.console import Console\n",
    "from rich.table import Table\n",
    "\n",
    "console = Console()\n",
    "rprint(\"[bold green]✓ Packages installed successfully![/bold green]\")\n",
    "\n",
    "# Show installed packages\n",
    "table = Table(title=\"User Installed Packages\")\n",
    "table.add_column(\"Package\", style=\"cyan\")\n",
    "table.add_column(\"Version\", style=\"magenta\")\n",
    "\n",
    "import pkg_resources\n",
    "user_packages = pkg_resources.working_set\n",
    "for package in ['requests', 'rich']:\n",
    "    try:\n",
    "        version = pkg_resources.get_distribution(package).version\n",
    "        table.add_row(package, version)\n",
    "    except:\n",
    "        pass\n",
    "\n",
    "console.print(table)"
   ]
  },
  {
   "cell_type": "code",
   "execution_count": 7,
   "id": "35c1dacc-ec6b-470c-8df1-89cd2b5864cc",
   "metadata": {},
   "outputs": [
    {
     "name": "stdout",
     "output_type": "stream",
     "text": [
      "ls: cannot access '/home/ubuntu/.local/lib/python*/site-packages/': No such file or directory\n"
     ]
    }
   ],
   "source": [
    "# List all packages in user directory\n",
    "!ls -la ~/.local/lib/python*/site-packages/ | head -20"
   ]
  },
  {
   "cell_type": "markdown",
   "id": "b1b587dc-36a6-46bd-9a14-4d56991cdca2",
   "metadata": {},
   "source": [
    "\n",
    "\n",
    "## Using UV for Super Fast Installs\n",
    "\n",
    "UV is 10-100x faster than regular pip. Use it for installing multiple packages:\n"
   ]
  },
  {
   "cell_type": "code",
   "execution_count": 8,
   "id": "9b1ea3d3-ea90-48ed-b43a-a9a23d440604",
   "metadata": {},
   "outputs": [
    {
     "name": "stdout",
     "output_type": "stream",
     "text": [
      "\u001b[1m\u001b[31merror\u001b[39m\u001b[0m: pip's `--user` is unsupported (use a virtual environment instead)\n"
     ]
    }
   ],
   "source": [
    "\n",
    "# Install multiple packages with uv (much faster!)\n",
    "!uv pip install --user httpx tqdm colorama"
   ]
  },
  {
   "cell_type": "code",
   "execution_count": 9,
   "id": "a84a3552-e8cf-449f-ae5d-fe5d6b9257bb",
   "metadata": {},
   "outputs": [
    {
     "name": "stdout",
     "output_type": "stream",
     "text": [
      "GNU Radio 3.10.9.2 is still accessible!\n"
     ]
    }
   ],
   "source": [
    "# Test GNU Radio still works\n",
    "from gnuradio import gr\n",
    "print(f\"GNU Radio {gr.version()} is still accessible!\")"
   ]
  },
  {
   "cell_type": "markdown",
   "id": "5e048dd4-7180-478b-afc4-3ed2f6d2c011",
   "metadata": {},
   "source": [
    "\n",
    "## Notes\n",
    "\n",
    "- Use `pip install --user` or `uv pip install --user` for package installation\n",
    "- Packages are installed to `~/.local/` which persists in the container\n",
    "- UV is much faster than pip, especially for multiple packages\n",
    "- These user-installed packages are separate from the system packages\n"
   ]
  },
  {
   "cell_type": "code",
   "execution_count": 10,
   "id": "11eb941c-76f2-4c42-8157-567799ffe4dd",
   "metadata": {},
   "outputs": [
    {
     "ename": "ModuleNotFoundError",
     "evalue": "No module named 'tqdm'",
     "output_type": "error",
     "traceback": [
      "\u001b[31m---------------------------------------------------------------------------\u001b[39m",
      "\u001b[31mModuleNotFoundError\u001b[39m                       Traceback (most recent call last)",
      "\u001b[36mCell\u001b[39m\u001b[36m \u001b[39m\u001b[32mIn[10]\u001b[39m\u001b[32m, line 7\u001b[39m\n\u001b[32m      5\u001b[39m \u001b[38;5;28;01mimport\u001b[39;00m\u001b[38;5;250m \u001b[39m\u001b[34;01mrequests\u001b[39;00m\n\u001b[32m      6\u001b[39m \u001b[38;5;28;01mimport\u001b[39;00m\u001b[38;5;250m \u001b[39m\u001b[34;01mhttpx\u001b[39;00m\n\u001b[32m----> \u001b[39m\u001b[32m7\u001b[39m \u001b[38;5;28;01mfrom\u001b[39;00m\u001b[38;5;250m \u001b[39m\u001b[34;01mtqdm\u001b[39;00m\u001b[38;5;250m \u001b[39m\u001b[38;5;28;01mimport\u001b[39;00m tqdm\n\u001b[32m      8\u001b[39m \u001b[38;5;28;01mfrom\u001b[39;00m\u001b[38;5;250m \u001b[39m\u001b[34;01mcolorama\u001b[39;00m\u001b[38;5;250m \u001b[39m\u001b[38;5;28;01mimport\u001b[39;00m Fore, Style\n\u001b[32m      9\u001b[39m \u001b[38;5;28;01mfrom\u001b[39;00m\u001b[38;5;250m \u001b[39m\u001b[34;01mrich\u001b[39;00m\u001b[38;5;250m \u001b[39m\u001b[38;5;28;01mimport\u001b[39;00m \u001b[38;5;28mprint\u001b[39m \u001b[38;5;28;01mas\u001b[39;00m rprint\n",
      "\u001b[31mModuleNotFoundError\u001b[39m: No module named 'tqdm'"
     ]
    }
   ],
   "source": [
    "# =============================================================================\n",
    "# BONUS: Quick test to verify everything works\n",
    "# =============================================================================\n",
    "# Test all the installed packages\n",
    "import requests\n",
    "import httpx\n",
    "from tqdm import tqdm\n",
    "from colorama import Fore, Style\n",
    "from rich import print as rprint\n",
    "\n",
    "# Colorama test\n",
    "print(Fore.GREEN + \"Colorama works!\" + Style.RESET_ALL)\n",
    "\n",
    "# Rich test\n",
    "rprint(\"[bold magenta]Rich works![/bold magenta]\")\n",
    "\n",
    "# tqdm test\n",
    "for i in tqdm(range(5), desc=\"Testing tqdm\"):\n",
    "    pass\n",
    "\n",
    "# httpx test\n",
    "print(f\"httpx version: {httpx.__version__}\")\n",
    "\n",
    "# requests test\n",
    "print(f\"requests version: {requests.__version__}\")\n",
    "\n",
    "print(\"\\nAll packages working! ✓\")"
   ]
  },
  {
   "cell_type": "code",
   "execution_count": null,
   "id": "02e5a4a6-4309-4d17-8619-63bfe2b84d77",
   "metadata": {},
   "outputs": [],
   "source": []
  }
 ],
 "metadata": {
  "kernelspec": {
   "display_name": "Python 3 (GNU Radio)",
   "language": "python",
   "name": "python3"
  },
  "language_info": {
   "codemirror_mode": {
    "name": "ipython",
    "version": 3
   },
   "file_extension": ".py",
   "mimetype": "text/x-python",
   "name": "python",
   "nbconvert_exporter": "python",
   "pygments_lexer": "ipython3",
   "version": "3.12.3"
  }
 },
 "nbformat": 4,
 "nbformat_minor": 5
}
